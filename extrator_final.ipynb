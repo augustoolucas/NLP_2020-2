{
  "nbformat": 4,
  "nbformat_minor": 0,
  "metadata": {
    "colab": {
      "name": "extrator.ipynb",
      "provenance": [],
      "collapsed_sections": []
    },
    "kernelspec": {
      "name": "python3",
      "display_name": "Python 3"
    },
    "language_info": {
      "name": "python"
    },
    "accelerator": "GPU"
  },
  "cells": [
    {
      "cell_type": "code",
      "metadata": {
        "id": "vzdcGBSH7c9I"
      },
      "source": [
        "import json\n",
        "import os\n",
        "import numpy as np\n",
        "import tensorflow as tf\n",
        "import random\n",
        "from keras.models import Sequential\n",
        "from keras import layers\n",
        "from keras.regularizers import l2\n",
        "from sklearn.metrics import classification_report, confusion_matrix"
      ],
      "execution_count": null,
      "outputs": []
    },
    {
      "cell_type": "code",
      "metadata": {
        "id": "1fgWlgIo7exn"
      },
      "source": [
        "train_data = []\n",
        "trainset_path = './train/'\n",
        "for file in os.listdir(trainset_path):\n",
        "    if file == 'schema.json':\n",
        "        continue\n",
        "        \n",
        "    with open(os.path.join(trainset_path, file), 'r') as json_file:\n",
        "        for elem in json.load(json_file):\n",
        "            train_data.append(elem)"
      ],
      "execution_count": null,
      "outputs": []
    },
    {
      "cell_type": "code",
      "metadata": {
        "id": "0HTjqBCm7g9b"
      },
      "source": [
        "test_data = []\n",
        "testset_path = './test/'\n",
        "for file in os.listdir(testset_path):\n",
        "    if file == 'schema.json':\n",
        "        continue\n",
        "        \n",
        "    with open(os.path.join(testset_path, file), 'r') as json_file:\n",
        "        for elem in json.load(json_file):\n",
        "            test_data.append(elem)"
      ],
      "execution_count": null,
      "outputs": []
    },
    {
      "cell_type": "code",
      "metadata": {
        "id": "IHpCt4zhCAsJ"
      },
      "source": [
        "labels = [\"o\", \"restaurant_name\", \"city\", \"time\", \"cuisine\", \"date\"]\n",
        "\n",
        "def slot2label(slot):\n",
        "  if slot == \"restaurant_name\":\n",
        "    return 2\n",
        "  elif slot == \"city\":\n",
        "    return 3\n",
        "  elif slot == \"time\":\n",
        "    return 4\n",
        "  elif slot == \"cuisine\":\n",
        "    return 5\n",
        "  elif slot == \"date\":\n",
        "    return 6\n",
        "  else:\n",
        "    return 1;"
      ],
      "execution_count": null,
      "outputs": []
    },
    {
      "cell_type": "code",
      "metadata": {
        "id": "7zA7w78G7hUj"
      },
      "source": [
        "train_labels = []\n",
        "test_labels = []\n",
        "train_sentences = []\n",
        "test_sentences = []\n",
        "\n",
        "for dialogue in train_data:\n",
        "    for idx in range(0, len(dialogue['turns']), 2):\n",
        "        sentence = dialogue['turns'][idx]['utterance']\n",
        "        labels = np.ones(len(sentence))\n",
        "        slots = dialogue['turns'][idx]['frames'][0]['slots']\n",
        "\n",
        "        for slot in slots:\n",
        "          if slot2label(slot['slot']) != 1:\n",
        "            labels = np.concatenate([labels[:slot['start']], np.array([slot2label(slot['slot'])]*(slot['exclusive_end']-slot['start'])), labels[slot['exclusive_end']:]])\n",
        "            \n",
        "            train_sentences.append(sentence)\n",
        "            train_labels.append(labels);\n",
        "        \n",
        "for dialogue in test_data:\n",
        "    for idx in range(0, len(dialogue['turns']), 2):\n",
        "        sentence = dialogue['turns'][idx]['utterance']\n",
        "        labels = np.ones(len(sentence))\n",
        "        slots = dialogue['turns'][idx]['frames'][0]['slots']\n",
        "\n",
        "        for slot in slots:\n",
        "          if slot2label(slot['slot']) != 1:\n",
        "            labels = np.concatenate([labels[:slot['start']], np.array([slot2label(slot['slot'])]*(slot['exclusive_end']-slot['start'])), labels[slot['exclusive_end']:]])\n",
        "          \n",
        "            test_sentences.append(sentence)\n",
        "            test_labels.append(labels);"
      ],
      "execution_count": null,
      "outputs": []
    },
    {
      "cell_type": "code",
      "metadata": {
        "id": "lPk70pGwJAdf"
      },
      "source": [
        "all_text = \" \".join([\" \".join(x) for x in train_sentences+test_sentences])\n",
        "vocab = sorted(set(all_text))\n",
        "char2idx = {u:i+1 for i, u in enumerate(vocab)}\n",
        "idx2char = np.array(vocab)\n",
        "\n",
        "train_sentences = list(map(lambda s:list(map(lambda c: char2idx[c],s)),train_sentences))\n",
        "test_sentences = list(map(lambda s:list(map(lambda c: char2idx[c],s)),test_sentences))"
      ],
      "execution_count": null,
      "outputs": []
    },
    {
      "cell_type": "code",
      "metadata": {
        "id": "-E-Bvyk_SEAi"
      },
      "source": [
        "BATCH_SIZE = 128\n",
        "BUFFER_SIZE = 1000\n",
        "\n",
        "def gen_train_series():\n",
        "    for eg in zip(train_sentences, train_labels):\n",
        "      yield eg[0],eg[1]\n",
        "\n",
        "def gen_test_series():\n",
        "  for eg in zip(test_sentences, test_labels):\n",
        "      yield eg[0],eg[1]\n",
        "\n",
        "series = tf.data.Dataset.from_generator(gen_train_series,output_types=(tf.int32, tf.int32),output_shapes = ((None, None)))\n",
        "series_test = tf.data.Dataset.from_generator(gen_test_series,output_types=(tf.int32, tf.int32),output_shapes = ((None, None)))\n",
        "\n",
        "ds_series_batch = series.shuffle(BUFFER_SIZE).padded_batch(BATCH_SIZE, padded_shapes=([None], [None]), drop_remainder=True)\n",
        "ds_series_batch_test = series_test.padded_batch(BATCH_SIZE, padded_shapes=([None], [None]), drop_remainder=True)\n"
      ],
      "execution_count": null,
      "outputs": []
    },
    {
      "cell_type": "code",
      "metadata": {
        "colab": {
          "base_uri": "https://localhost:8080/"
        },
        "id": "zVGRjENcLzEa",
        "outputId": "8ebb9f5e-5378-4463-d4c6-c3e83d4105b5"
      },
      "source": [
        "vocab_size = len(vocab)+1\n",
        "\n",
        "# The embedding dimension\n",
        "embedding_dim = 256\n",
        "\n",
        "# Number of RNN units\n",
        "rnn_units = 1024\n",
        "\n",
        "label_size = len(labels)  \n",
        "\n",
        "# build LSTM model\n",
        "def build_model(vocab_size,label_size, embedding_dim, rnn_units, batch_size):\n",
        "      model = tf.keras.Sequential([\n",
        "          tf.keras.layers.Embedding(vocab_size, embedding_dim,\n",
        "                            batch_input_shape=[batch_size, None],mask_zero=True),\n",
        "          tf.keras.layers.LSTM(rnn_units,\n",
        "                      return_sequences=True,\n",
        "                      stateful=True,\n",
        "                      recurrent_initializer='glorot_uniform'),\n",
        "          tf.keras.layers.Dense(label_size)\n",
        "          ])\n",
        "      return model\n",
        "\n",
        "model = build_model(\n",
        "      vocab_size = len(vocab)+1,\n",
        "      label_size=len(labels)+1,\n",
        "      embedding_dim=embedding_dim,\n",
        "      rnn_units=rnn_units,\n",
        "      batch_size=BATCH_SIZE)\n",
        "\n",
        "model.summary()"
      ],
      "execution_count": null,
      "outputs": [
        {
          "output_type": "stream",
          "text": [
            "Model: \"sequential_1\"\n",
            "_________________________________________________________________\n",
            "Layer (type)                 Output Shape              Param #   \n",
            "=================================================================\n",
            "embedding_1 (Embedding)      (128, None, 256)          19968     \n",
            "_________________________________________________________________\n",
            "lstm_1 (LSTM)                (128, None, 1024)         5246976   \n",
            "_________________________________________________________________\n",
            "dense_1 (Dense)              (128, None, 27)           27675     \n",
            "=================================================================\n",
            "Total params: 5,294,619\n",
            "Trainable params: 5,294,619\n",
            "Non-trainable params: 0\n",
            "_________________________________________________________________\n"
          ],
          "name": "stdout"
        }
      ]
    },
    {
      "cell_type": "code",
      "metadata": {
        "id": "NsPmiTxlNnRP"
      },
      "source": [
        "# define loss function\n",
        "def loss(labels, logits):\n",
        "    return tf.keras.losses.sparse_categorical_crossentropy(labels, logits, from_logits=True)\n",
        "\n",
        "model.compile(optimizer='adam', loss=loss,metrics=[tf.keras.metrics.SparseCategoricalAccuracy()])\n",
        "\n",
        "# Directory where the checkpoints will be saved\n",
        "checkpoint_dir = './training_checkpoints'\n",
        "# Name of the checkpoint files\n",
        "checkpoint_prefix = os.path.join(checkpoint_dir, \"ckpt_{epoch}\")\n",
        "\n",
        "checkpoint_callback=tf.keras.callbacks.ModelCheckpoint(\n",
        "    filepath=checkpoint_prefix,\n",
        "    save_weights_only=True)"
      ],
      "execution_count": null,
      "outputs": []
    },
    {
      "cell_type": "code",
      "metadata": {
        "colab": {
          "base_uri": "https://localhost:8080/"
        },
        "id": "KwHiJAL5KjDd",
        "outputId": "79477c91-ecf5-442c-e711-74d0b919c332"
      },
      "source": [
        "EPOCHS=10\n",
        "history = model.fit(ds_series_batch, epochs=EPOCHS, validation_data=ds_series_batch_test,callbacks=[checkpoint_callback])"
      ],
      "execution_count": null,
      "outputs": [
        {
          "output_type": "stream",
          "text": [
            "Epoch 1/10\n",
            "111/111 [==============================] - 16s 125ms/step - loss: 0.2773 - sparse_categorical_accuracy: 0.7828 - val_loss: 0.1925 - val_sparse_categorical_accuracy: 0.8305\n",
            "Epoch 2/10\n",
            "111/111 [==============================] - 13s 120ms/step - loss: 0.1678 - sparse_categorical_accuracy: 0.8455 - val_loss: 0.1301 - val_sparse_categorical_accuracy: 0.8863\n",
            "Epoch 3/10\n",
            "111/111 [==============================] - 13s 119ms/step - loss: 0.1274 - sparse_categorical_accuracy: 0.8840 - val_loss: 0.1116 - val_sparse_categorical_accuracy: 0.9037\n",
            "Epoch 4/10\n",
            "111/111 [==============================] - 13s 117ms/step - loss: 0.1084 - sparse_categorical_accuracy: 0.9009 - val_loss: 0.0997 - val_sparse_categorical_accuracy: 0.9116\n",
            "Epoch 5/10\n",
            "111/111 [==============================] - 13s 117ms/step - loss: 0.0950 - sparse_categorical_accuracy: 0.9105 - val_loss: 0.0912 - val_sparse_categorical_accuracy: 0.9158\n",
            "Epoch 6/10\n",
            "111/111 [==============================] - 13s 119ms/step - loss: 0.0831 - sparse_categorical_accuracy: 0.9193 - val_loss: 0.0937 - val_sparse_categorical_accuracy: 0.9151\n",
            "Epoch 7/10\n",
            "111/111 [==============================] - 14s 121ms/step - loss: 0.0729 - sparse_categorical_accuracy: 0.9274 - val_loss: 0.0805 - val_sparse_categorical_accuracy: 0.9265\n",
            "Epoch 8/10\n",
            "111/111 [==============================] - 13s 118ms/step - loss: 0.0654 - sparse_categorical_accuracy: 0.9340 - val_loss: 0.0793 - val_sparse_categorical_accuracy: 0.9294\n",
            "Epoch 9/10\n",
            "111/111 [==============================] - 13s 118ms/step - loss: 0.0621 - sparse_categorical_accuracy: 0.9379 - val_loss: 0.0771 - val_sparse_categorical_accuracy: 0.9276\n",
            "Epoch 10/10\n",
            "111/111 [==============================] - 13s 118ms/step - loss: 0.0566 - sparse_categorical_accuracy: 0.9421 - val_loss: 0.0728 - val_sparse_categorical_accuracy: 0.9321\n"
          ],
          "name": "stdout"
        }
      ]
    },
    {
      "cell_type": "code",
      "metadata": {
        "colab": {
          "base_uri": "https://localhost:8080/"
        },
        "id": "NXMZ4_3STQaI",
        "outputId": "f6f17484-1166-4a71-c254-b6b5d024de56"
      },
      "source": [
        "preds = np.array([])\n",
        "y_trues= np.array([])\n",
        "\n",
        "for input_example_batch, target_example_batch in ds_series_batch_test:\n",
        "\n",
        "  pred=model.predict_on_batch(input_example_batch)\n",
        "  pred_max=tf.argmax(tf.nn.softmax(pred),2).numpy().flatten()\n",
        "  y_true=target_example_batch.numpy().flatten()\n",
        "\n",
        "  preds=np.concatenate([preds,pred_max])\n",
        "  y_trues=np.concatenate([y_trues,y_true])\n",
        "\n",
        "remove_padding = [(p,y) for p,y in zip(preds,y_trues) if y!=0]\n",
        "\n",
        "r_p = [x[0] for x in remove_padding]\n",
        "r_t = [x[1] for x in remove_padding]\n",
        "\n",
        "print(confusion_matrix(r_p,r_t))\n",
        "print(classification_report(r_p,r_t))"
      ],
      "execution_count": null,
      "outputs": [
        {
          "output_type": "stream",
          "text": [
            "[[156288    422   2387    799      0   1134]\n",
            " [   162    920    256      0      0      1]\n",
            " [  1954     47  13899      0      0      6]\n",
            " [  1925      0      4   6374      0      7]\n",
            " [   246     44     54      0      0      2]\n",
            " [  4363     16     42     12      0  13340]]\n"
          ],
          "name": "stdout"
        },
        {
          "output_type": "stream",
          "text": [
            "/usr/local/lib/python3.7/dist-packages/sklearn/metrics/_classification.py:1272: UndefinedMetricWarning: Precision and F-score are ill-defined and being set to 0.0 in labels with no predicted samples. Use `zero_division` parameter to control this behavior.\n",
            "  _warn_prf(average, modifier, msg_start, len(result))\n"
          ],
          "name": "stderr"
        },
        {
          "output_type": "stream",
          "text": [
            "              precision    recall  f1-score   support\n",
            "\n",
            "         1.0       0.95      0.97      0.96    161030\n",
            "         2.0       0.63      0.69      0.66      1339\n",
            "         3.0       0.84      0.87      0.85     15906\n",
            "         4.0       0.89      0.77      0.82      8310\n",
            "         5.0       0.00      0.00      0.00       346\n",
            "         6.0       0.92      0.75      0.83     17773\n",
            "\n",
            "    accuracy                           0.93    204704\n",
            "   macro avg       0.70      0.67      0.69    204704\n",
            "weighted avg       0.93      0.93      0.93    204704\n",
            "\n"
          ],
          "name": "stdout"
        }
      ]
    },
    {
      "cell_type": "code",
      "metadata": {
        "id": "0NDwQmOVfAgm"
      },
      "source": [
        ""
      ],
      "execution_count": null,
      "outputs": []
    }
  ]
}