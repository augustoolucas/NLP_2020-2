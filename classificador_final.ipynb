{
  "nbformat": 4,
  "nbformat_minor": 0,
  "metadata": {
    "accelerator": "GPU",
    "colab": {
      "name": "classificador.ipynb",
      "provenance": [],
      "collapsed_sections": []
    },
    "kernelspec": {
      "display_name": "Python 3",
      "name": "python3"
    },
    "language_info": {
      "name": "python"
    }
  },
  "cells": [
    {
      "cell_type": "code",
      "metadata": {
        "id": "TsL5Ey9cty7F"
      },
      "source": [
        "import json\n",
        "import os\n",
        "import numpy as np\n",
        "import tensorflow as tf\n",
        "import random\n",
        "from sklearn.metrics import confusion_matrix\n",
        "from keras.models import Sequential\n",
        "from keras import layers\n",
        "from keras.regularizers import l2"
      ],
      "execution_count": null,
      "outputs": []
    },
    {
      "cell_type": "code",
      "metadata": {
        "id": "L1NYk8-tt-MV"
      },
      "source": [
        "train_data = []\n",
        "trainset_path = './train/'\n",
        "for file in os.listdir(trainset_path):\n",
        "    if '.json' not in file:\n",
        "        continue\n",
        "    if file == 'schema.json':\n",
        "        continue\n",
        "        \n",
        "    with open(os.path.join(trainset_path, file), 'r') as json_file:\n",
        "        for elem in json.load(json_file):\n",
        "            train_data.append(elem)"
      ],
      "execution_count": null,
      "outputs": []
    },
    {
      "cell_type": "code",
      "metadata": {
        "id": "2fG9TEbJYC9N"
      },
      "source": [
        "test_data = []\n",
        "testset_path = './test/'\n",
        "for file in os.listdir(testset_path):\n",
        "    if '.json' not in file:\n",
        "        continue\n",
        "    if file == 'schema.json':\n",
        "        continue\n",
        "        \n",
        "    with open(os.path.join(testset_path, file), 'r') as json_file:\n",
        "        for elem in json.load(json_file):\n",
        "            test_data.append(elem)"
      ],
      "execution_count": null,
      "outputs": []
    },
    {
      "cell_type": "code",
      "metadata": {
        "id": "hFB_I8OPuAZH"
      },
      "source": [
        "train_intents = []\n",
        "test_intents = []\n",
        "train_sentences = []\n",
        "test_sentences = []\n",
        "\n",
        "misc_train_sentences = []\n",
        "misc_train_intents = []\n",
        "misc_test_sentences = []\n",
        "misc_test_intents = []\n",
        "\n",
        "none_train_sentences = []\n",
        "none_train_intents = []\n",
        "none_test_sentences = []\n",
        "none_test_intents = []\n",
        "\n",
        "for dialogue in train_data:\n",
        "    for idx in range(0, len(dialogue['turns']), 2):\n",
        "        sentence = dialogue['turns'][idx]['utterance']\n",
        "        intent = dialogue['turns'][idx]['frames'][0]['state']['active_intent']\n",
        "        if intent not in ['FindRestaurants', 'ReserveRestaurant', 'NONE']:\n",
        "          misc_train_sentences.append(sentence)\n",
        "          misc_train_intents.append(3)\n",
        "        else:\n",
        "          if intent == 'FindRestaurants':\n",
        "            train_sentences.append(sentence)\n",
        "            train_intents.append(0)\n",
        "          elif intent == 'ReserveRestaurant':\n",
        "            train_sentences.append(sentence)\n",
        "            train_intents.append(1)\n",
        "          else:\n",
        "            none_train_sentences.append(sentence)\n",
        "            none_train_intents.append(2)\n",
        "        \n",
        "for dialogue in test_data:\n",
        "    for idx in range(0, len(dialogue['turns']), 2):\n",
        "        sentence = dialogue['turns'][idx]['utterance']\n",
        "        intent = dialogue['turns'][idx]['frames'][0]['state']['active_intent']\n",
        "        if intent not in ['FindRestaurants', 'ReserveRestaurant', 'NONE']:\n",
        "          misc_test_sentences.append(sentence)\n",
        "          misc_test_intents.append(3)\n",
        "        else:\n",
        "          if intent == 'FindRestaurants':\n",
        "            test_sentences.append(sentence)\n",
        "            test_intents.append(0)\n",
        "          elif intent == 'ReserveRestaurant':\n",
        "            test_sentences.append(sentence)\n",
        "            test_intents.append(1)\n",
        "          else:\n",
        "            none_test_sentences.append(sentence)\n",
        "            none_test_intents.append(2)\n",
        "\n",
        "misc_train = [ (x, y) for x, y in zip(misc_train_sentences, misc_train_intents) ]\n",
        "random.shuffle(misc_train)\n",
        "misc_test = [ (x, y) for x, y in zip(misc_test_sentences, misc_test_intents) ]\n",
        "random.shuffle(misc_test)\n",
        "\n",
        "none_train = [ (x, y) for x, y in zip(none_train_sentences, none_train_intents) ]\n",
        "random.shuffle(none_train)\n",
        "none_test = [ (x, y) for x, y in zip(none_test_sentences, none_test_intents) ]\n",
        "random.shuffle(none_test)\n",
        "\n",
        "train_intents.extend([y for _, y in none_train][0:len(train_intents)//2])\n",
        "test_intents.extend([y for _, y in none_test][0:len(test_intents)//2])\n",
        "train_sentences.extend([x for x, _ in none_train][0:len(train_sentences)//2])\n",
        "test_sentences.extend([x for x, _ in none_test][0:len(test_sentences)//2])\n",
        "\n",
        "train_intents.extend([y for _, y in misc_train][0:len(train_intents)//3])\n",
        "test_intents.extend([y for _, y in misc_test][0:len(test_intents)//3])\n",
        "train_sentences.extend([x for x, _ in misc_train][0:len(train_sentences)//3])\n",
        "test_sentences.extend([x for x, _ in misc_test][0:len(test_sentences)//3])"
      ],
      "execution_count": null,
      "outputs": []
    },
    {
      "cell_type": "code",
      "metadata": {
        "id": "PA-BO7L3vOvA"
      },
      "source": [
        "train_sentences = np.array(train_sentences)\n",
        "test_sentences = np.array(test_sentences)\n",
        "train_intents = np.array(train_intents)\n",
        "test_intents = np.array(test_intents)"
      ],
      "execution_count": null,
      "outputs": []
    },
    {
      "cell_type": "code",
      "metadata": {
        "id": "V5hSdn11MNfy",
        "colab": {
          "base_uri": "https://localhost:8080/"
        },
        "outputId": "571d848a-d974-449c-9bb9-ccbcd9c83b48"
      },
      "source": [
        "print(dict(zip(*np.unique(train_intents, return_counts=True))))\n",
        "print(dict(zip(*np.unique(test_intents, return_counts=True))))"
      ],
      "execution_count": null,
      "outputs": [
        {
          "output_type": "stream",
          "text": [
            "{0: 6668, 1: 8450, 2: 7559, 3: 7559}\n",
            "{0: 1366, 1: 1754, 2: 1560, 3: 1560}\n"
          ],
          "name": "stdout"
        }
      ]
    },
    {
      "cell_type": "code",
      "metadata": {
        "id": "Q3CX59k3ulPd"
      },
      "source": [
        "VOCAB_SIZE = 1000\n",
        "encoder = tf.keras.layers.experimental.preprocessing.TextVectorization(\n",
        "    max_tokens=VOCAB_SIZE)\n",
        "encoder.adapt(np.array(train_sentences))"
      ],
      "execution_count": null,
      "outputs": []
    },
    {
      "cell_type": "code",
      "metadata": {
        "id": "huWpu4CfwIVd",
        "colab": {
          "base_uri": "https://localhost:8080/",
          "height": 35
        },
        "outputId": "d39281c0-9ec8-4654-80c9-e949f05e95b5"
      },
      "source": [
        "train_sentences[0]"
      ],
      "execution_count": null,
      "outputs": [
        {
          "output_type": "execute_result",
          "data": {
            "application/vnd.google.colaboratory.intrinsic+json": {
              "type": "string"
            },
            "text/plain": [
              "\"Some Barbecue would work well. Just make sure that it's reasonably priced.\""
            ]
          },
          "metadata": {},
          "execution_count": 14
        }
      ]
    },
    {
      "cell_type": "code",
      "metadata": {
        "id": "NBlVnq9Yv0zX"
      },
      "source": [
        "n_class = 4\n",
        "encoded_train = tf.keras.utils.to_categorical(train_intents, n_class)\n",
        "encoded_test = tf.keras.utils.to_categorical(test_intents, n_class)"
      ],
      "execution_count": null,
      "outputs": []
    },
    {
      "cell_type": "markdown",
      "metadata": {
        "id": "fCDsZHiewa-6"
      },
      "source": [
        "# Create the model"
      ]
    },
    {
      "cell_type": "code",
      "metadata": {
        "id": "tyAAMnNtwipv"
      },
      "source": [
        "model = tf.keras.Sequential([\n",
        "    encoder,\n",
        "    tf.keras.layers.Embedding(\n",
        "        input_dim=len(encoder.get_vocabulary()),\n",
        "        output_dim=64,\n",
        "        # Use masking to handle the variable sequence lengths\n",
        "        mask_zero=True),\n",
        "    tf.keras.layers.Bidirectional(tf.keras.layers.LSTM(64)),#, return_sequences=True\n",
        "    tf.keras.layers.Dense(8, activation='elu'),\n",
        "    tf.keras.layers.Dense(n_class, activation=\"softmax\")])\n",
        "\n",
        "model.compile(loss=tf.keras.losses.CategoricalCrossentropy(),\n",
        "              optimizer=tf.keras.optimizers.Adam(1e-4),\n",
        "              metrics=['accuracy'])"
      ],
      "execution_count": null,
      "outputs": []
    },
    {
      "cell_type": "code",
      "metadata": {
        "id": "LuF-cu04wtao",
        "colab": {
          "base_uri": "https://localhost:8080/"
        },
        "outputId": "a7ecd373-a4d0-45bc-84de-e334542d36ab"
      },
      "source": [
        "history = model.fit(x=train_sentences, y=encoded_train, epochs=10,\n",
        "                    validation_data=(test_sentences, encoded_test),\n",
        "                    validation_steps=30, batch_size=64, shuffle=True)"
      ],
      "execution_count": null,
      "outputs": [
        {
          "output_type": "stream",
          "text": [
            "Epoch 1/10\n",
            "473/473 [==============================] - 14s 17ms/step - loss: 1.1095 - accuracy: 0.5577 - val_loss: 1.0669 - val_accuracy: 0.5719\n",
            "Epoch 2/10\n",
            "473/473 [==============================] - 6s 14ms/step - loss: 0.6807 - accuracy: 0.7523 - val_loss: 0.9195 - val_accuracy: 0.7016\n",
            "Epoch 3/10\n",
            "473/473 [==============================] - 6s 13ms/step - loss: 0.5704 - accuracy: 0.7915 - val_loss: 0.8471 - val_accuracy: 0.7359\n",
            "Epoch 4/10\n",
            "473/473 [==============================] - 6s 13ms/step - loss: 0.5170 - accuracy: 0.8078 - val_loss: 0.8024 - val_accuracy: 0.7453\n",
            "Epoch 5/10\n",
            "473/473 [==============================] - 6s 13ms/step - loss: 0.4837 - accuracy: 0.8154 - val_loss: 0.8032 - val_accuracy: 0.7521\n",
            "Epoch 6/10\n",
            "473/473 [==============================] - 6s 13ms/step - loss: 0.4604 - accuracy: 0.8201 - val_loss: 0.7914 - val_accuracy: 0.7630\n",
            "Epoch 7/10\n",
            "473/473 [==============================] - 6s 13ms/step - loss: 0.4428 - accuracy: 0.8244 - val_loss: 0.7613 - val_accuracy: 0.7698\n",
            "Epoch 8/10\n",
            "473/473 [==============================] - 6s 13ms/step - loss: 0.4282 - accuracy: 0.8281 - val_loss: 0.7638 - val_accuracy: 0.7677\n",
            "Epoch 9/10\n",
            "473/473 [==============================] - 6s 13ms/step - loss: 0.4164 - accuracy: 0.8303 - val_loss: 0.8050 - val_accuracy: 0.7667\n",
            "Epoch 10/10\n",
            "473/473 [==============================] - 6s 13ms/step - loss: 0.4066 - accuracy: 0.8342 - val_loss: 0.7627 - val_accuracy: 0.7776\n"
          ],
          "name": "stdout"
        }
      ]
    },
    {
      "cell_type": "code",
      "metadata": {
        "id": "bIjuvLLF0Ia3",
        "colab": {
          "base_uri": "https://localhost:8080/"
        },
        "outputId": "f5cd9a78-5b25-43d2-ad04-124f2f438b4f"
      },
      "source": [
        "test_loss, test_acc = model.evaluate(x=test_sentences, y=encoded_test)\n",
        "\n",
        "print('Test Loss:', test_loss)\n",
        "print('Test Accuracy:', test_acc)"
      ],
      "execution_count": null,
      "outputs": [
        {
          "output_type": "stream",
          "text": [
            "195/195 [==============================] - 3s 6ms/step - loss: 0.6251 - accuracy: 0.7888\n",
            "Test Loss: 0.6250861287117004\n",
            "Test Accuracy: 0.7887820601463318\n"
          ],
          "name": "stdout"
        }
      ]
    },
    {
      "cell_type": "code",
      "metadata": {
        "id": "OttsOKYKKkcr",
        "colab": {
          "base_uri": "https://localhost:8080/"
        },
        "outputId": "a600a9cb-2601-44e0-ca6d-b6330b62c312"
      },
      "source": [
        "y_pred = model.predict(test_sentences)\n",
        "matrix = confusion_matrix(encoded_test.argmax(axis=1), y_pred.argmax(axis=1))\n",
        "print(matrix)"
      ],
      "execution_count": null,
      "outputs": [
        {
          "output_type": "stream",
          "text": [
            "[[1043  127   15  181]\n",
            " [ 125 1367   52  210]\n",
            " [  12   48 1477   23]\n",
            " [ 185  300   40 1035]]\n"
          ],
          "name": "stdout"
        }
      ]
    },
    {
      "cell_type": "code",
      "metadata": {
        "id": "bKZYhFQr0nVh"
      },
      "source": [
        "import matplotlib.pyplot as plt\n",
        "\n",
        "\n",
        "def plot_graphs(history, metric):\n",
        "  plt.plot(history.history[metric])\n",
        "  plt.plot(history.history['val_'+metric], '')\n",
        "  plt.xlabel(\"Epochs\")\n",
        "  plt.ylabel(metric)\n",
        "  plt.legend([metric, 'val_'+metric])"
      ],
      "execution_count": null,
      "outputs": []
    },
    {
      "cell_type": "code",
      "metadata": {
        "id": "Q1xto_Zg0gtc",
        "colab": {
          "base_uri": "https://localhost:8080/",
          "height": 517
        },
        "outputId": "8bd0d369-ff7b-4c81-eac1-e8e00a9da335"
      },
      "source": [
        "plt.figure(figsize=(16, 8))\n",
        "plt.subplot(1, 2, 1)\n",
        "plot_graphs(history, 'accuracy')\n",
        "plt.ylim(None, 1)\n",
        "plt.subplot(1, 2, 2)\n",
        "plot_graphs(history, 'loss')\n",
        "plt.ylim(0, None)"
      ],
      "execution_count": null,
      "outputs": [
        {
          "output_type": "execute_result",
          "data": {
            "text/plain": [
              "(0.0, 1.1446374773979187)"
            ]
          },
          "metadata": {},
          "execution_count": 60
        },
        {
          "output_type": "display_data",
          "data": {
            "image/png": "[encoded data removed]",
            "text/plain": [
              "<Figure size 1152x576 with 2 Axes>"
            ]
          },
          "metadata": {
            "needs_background": "light"
          }
        }
      ]
    },
    {
      "cell_type": "code",
      "metadata": {
        "id": "pZ7pvtUAKLv0",
        "colab": {
          "base_uri": "https://localhost:8080/"
        },
        "outputId": "bc3fa1c5-f790-4f68-8a3f-8d61bdfeb2a0"
      },
      "source": [
        "model.predict([\"I'd like to know where I can eat something nice.\"])"
      ],
      "execution_count": null,
      "outputs": [
        {
          "output_type": "execute_result",
          "data": {
            "text/plain": [
              "array([[9.6136361e-01, 7.9733217e-03, 5.4176711e-04, 3.0121349e-02]],\n",
              "      dtype=float32)"
            ]
          },
          "metadata": {},
          "execution_count": 61
        }
      ]
    },
    {
      "cell_type": "code",
      "metadata": {
        "id": "uuyoMW4f4biu",
        "colab": {
          "base_uri": "https://localhost:8080/"
        },
        "outputId": "fe821279-b084-40f1-e240-d2decda6824a"
      },
      "source": [
        "model.predict([\"I'd like to buy a plane ticket to Recife\"])"
      ],
      "execution_count": null,
      "outputs": [
        {
          "output_type": "execute_result",
          "data": {
            "text/plain": [
              "array([[7.6768547e-04, 1.6219402e-02, 1.7212238e-04, 9.8284078e-01]],\n",
              "      dtype=float32)"
            ]
          },
          "metadata": {},
          "execution_count": 62
        }
      ]
    }
  ]
}